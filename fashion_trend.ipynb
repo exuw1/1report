{
 "cells": [
  {
   "cell_type": "code",
   "execution_count": null,
   "id": "b577f941",
   "metadata": {},
   "outputs": [
    {
     "name": "stderr",
     "output_type": "stream",
     "text": [
      "C:\\ProgramData\\Anaconda3\\lib\\site-packages\\scipy\\__init__.py:155: UserWarning: A NumPy version >=1.18.5 and <1.25.0 is required for this version of SciPy (detected version 1.26.2\n",
      "  warnings.warn(f\"A NumPy version >={np_minversion} and <{np_maxversion}\"\n"
     ]
    }
   ],
   "source": [
    "# import package\n",
    "import os\n",
    "import pandas as pd\n",
    "import ydata_profiling  # ydata_profiling 패키지를 활용함\n",
    "\n",
    "# age_gorup function (연령 그룹을 분류하는 함수)\n",
    "def chk_age(x):\n",
    "    x = str(x)\n",
    "    x = x.replace('대','')\n",
    "    x = x.replace('1020','10/20')\n",
    "    x = x.replace('2030','20/30')\n",
    "    x = x.replace('3040','30/40')\n",
    "    x = x.replace('4050','40/50')\n",
    "    x = '/'.join(set(x.split('/')))  # 중복제거 (dedupication)\n",
    "    \n",
    "    if '대학생' in x or '신입생' in x:\n",
    "        return '20'\n",
    "    elif '학생' in x:\n",
    "        return '10'\n",
    "    elif '직장인' in x:\n",
    "        return '20/30/40/50'\n",
    "    elif x == 'nan':\n",
    "        return float('nan')\n",
    "    else:\n",
    "        return x\n",
    "    \n",
    "# weight_category function (무게 그룹을 분류하는 함수)\n",
    "def chk_weight(x):\n",
    "    x = str(x)\n",
    "    x = x.replace('경량','가벼운')\n",
    "    x = x.replace('묵직한','무거운')\n",
    "    x = '/'.join(set(x.split('/')))  # 중복제거 (deduplication)\n",
    "    \n",
    "    if x == 'nan':\n",
    "        return float('nan')\n",
    "    else:\n",
    "        return x\n",
    "    \n",
    "# season_category function (계절 그룹을 분류하는 함수)\n",
    "def chk_season(x):\n",
    "    x = str(x)\n",
    "    x = '/'.join(set(x.split('/')))  # deduplication\n",
    "    \n",
    "    if x == 'nan':\n",
    "        return float('nan')\n",
    "    elif '봄' in x:\n",
    "        return '봄'\n",
    "    elif '여름' in x or '휴가' in x:\n",
    "        return '여름'\n",
    "    elif '겨울' in x:\n",
    "        return '겨울'\n",
    "    elif '가을' in x:\n",
    "        return '가을'\n",
    "    else:\n",
    "        return x"
   ]
  },
  {
   "cell_type": "code",
   "execution_count": null,
   "id": "caf4cc93",
   "metadata": {},
   "outputs": [],
   "source": [
    "# CSV파일 전체 가져오기\n",
    "filelist = []\n",
    "\n",
    "for (path, dirs, files) in os.walk('./'):\n",
    "    for filename in files:\n",
    "        ext = os.path.splitext(filename)[-1]\n",
    "        if ext == '.csv':  # csv file listup\n",
    "            filelist.append(\"%s/%s\" % (path, filename))\n"
   ]
  },
  {
   "cell_type": "code",
   "execution_count": 8,
   "id": "d6497a7d",
   "metadata": {},
   "outputs": [],
   "source": [
    "# CSV 각 파일 읽은 뒤 병합하기\n",
    "df_merge = pd.read_csv(filelist[0])\n",
    "\n",
    "for i in filelist[1:]:\n",
    "    try:\n",
    "        df2 = pd.read_csv(filelist[1])  # encoding check\n",
    "    except UnicodeDecodeError:\n",
    "        df2 = pd.read_csv(filelist[1], encoding='cp949')  # encoding check\n",
    "\n",
    "    df_merge = pd.concat([df_merge, df2])"
   ]
  },
  {
   "cell_type": "code",
   "execution_count": 9,
   "id": "bb73a9b7",
   "metadata": {},
   "outputs": [],
   "source": [
    "# data grouping\n",
    "# 'category_middle_desc' 열의 값을 기반으로 'top_and_bottom'이라는 새로운 열을 만듦. \n",
    "# 'category_middle_desc'의 값을 {'원피스':'한벌옷','팬츠':'하의','아우터':'상의','상의':'상의','스커트':'하의'}와 매핑함.\n",
    "df_merge['top_and_bottom'] = df_merge['category_middle_desc'].map({'원피스':'한벌옷','팬츠':'하의','아우터':'상의','상의':'상의','스커트':'하의'})\n",
    "df_merge['age_group'] = df_merge['age'].apply(lambda x: chk_age(x))\n",
    "df_merge['weight_category'] = df_merge['weight'].apply(lambda x: chk_weight(x))\n",
    "df_merge['season_category'] = df_merge['season'].apply(lambda x: chk_season(x))\n",
    "\n",
    "df_target = df_merge[['top_and_bottom','category_small_desc','color','material','print_pattern','characteristic','detail','age_group','weight_category','season_category','sensibility','sale_price','recent_sale_count']]\n",
    "\n",
    "# 전처리 파일 추출하기\n",
    "df_merge.to_csv('./preprocessing.csv', index=False)"
   ]
  },
  {
   "cell_type": "code",
   "execution_count": null,
   "id": "f212e36f",
   "metadata": {},
   "outputs": [
    {
     "data": {
      "application/vnd.jupyter.widget-view+json": {
       "model_id": "3d744fd46d5d4ff684654ae7b8f8521c",
       "version_major": 2,
       "version_minor": 0
      },
      "text/plain": [
       "Summarize dataset:   0%|          | 0/5 [00:00<?, ?it/s]"
      ]
     },
     "metadata": {},
     "output_type": "display_data"
    }
   ],
   "source": [
    "# EDA\n",
    "# 데이터프레임의 프로파일 보고서 생성\n",
    "pf = df_target.profile_report(\n",
    "    correlations=None,  # disable correlations for large datasets\n",
    "    missing_diagrams={\n",
    "      \"heatmap\": False,  # disable heatmap for large datasets\n",
    "    }\n",
    ")\n",
    "# HTML 파일로 저장\n",
    "pf.to_file('./report.html')"
   ]
  },
  {
   "cell_type": "code",
   "execution_count": null,
   "id": "1bd55d58",
   "metadata": {},
   "outputs": [],
   "source": []
  }
 ],
 "metadata": {
  "kernelspec": {
   "display_name": "Python 3 (ipykernel)",
   "language": "python",
   "name": "python3"
  },
  "language_info": {
   "codemirror_mode": {
    "name": "ipython",
    "version": 3
   },
   "file_extension": ".py",
   "mimetype": "text/x-python",
   "name": "python",
   "nbconvert_exporter": "python",
   "pygments_lexer": "ipython3",
   "version": "3.9.13"
  }
 },
 "nbformat": 4,
 "nbformat_minor": 5
}
